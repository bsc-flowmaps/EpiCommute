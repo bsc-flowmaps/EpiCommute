{
 "cells": [
  {
   "cell_type": "markdown",
   "metadata": {},
   "source": [
    "# 1 Basic example\n",
    "\n",
    "This notebook runs a basic parametrization of the model.\n",
    "\n",
    "We simulate an SIR epidemic in a system of M subpopulations.\n",
    "\n"
   ]
  },
  {
   "cell_type": "code",
   "execution_count": 1,
   "metadata": {},
   "outputs": [],
   "source": [
    "import numpy as np\n",
    "\n",
    "from EpiCommute import SIRModel"
   ]
  },
  {
   "cell_type": "markdown",
   "metadata": {},
   "source": [
    "## Initialize model\n",
    "\n",
    "Here we set the parameters of the model, and use some dummy data"
   ]
  },
  {
   "cell_type": "code",
   "execution_count": null,
   "metadata": {},
   "outputs": [],
   "source": [
    "M = 20    # Number of subpopulations\n",
    "\n",
    "# Initialize a random mobility matrix\n",
    "mobility = np.random.rand(M, M)\n",
    "\n",
    "# Choose random subpopulation sizes\n",
    "subpopulation_sizes = np.random.randint(20,100,M)\n",
    "\n",
    "# Initialize the model\n",
    "model = SIRModel(\n",
    "            mobility,\n",
    "            subpopulation_sizes,\n",
    "            outbreak_source='random', # random outbreak location\n",
    "            dt=0.1,                   # simulation time interval\n",
    "            dt_save=1,                # time interval when to save observables\n",
    "            I0=10,                    # number of initial infected\n",
    "            VERBOSE=True              # print verbose output\n",
    "        )"
   ]
  },
  {
   "cell_type": "markdown",
   "metadata": {},
   "source": [
    "## Run simulation"
   ]
  },
  {
   "cell_type": "code",
   "execution_count": null,
   "metadata": {
    "tags": []
   },
   "outputs": [],
   "source": [
    "result = model.run_simulation()"
   ]
  },
  {
   "cell_type": "markdown",
   "metadata": {},
   "source": [
    "## Show results"
   ]
  },
  {
   "cell_type": "code",
   "execution_count": null,
   "metadata": {},
   "outputs": [],
   "source": [
    "import matplotlib\n",
    "import matplotlib.pyplot as plt\n",
    "matplotlib.rc('figure', dpi=200)"
   ]
  },
  {
   "cell_type": "markdown",
   "metadata": {},
   "source": [
    "### Epidemic curve"
   ]
  },
  {
   "cell_type": "code",
   "execution_count": null,
   "metadata": {},
   "outputs": [],
   "source": [
    "figure = plt.figure(figsize=(3.5,2))\n",
    "plt.plot(result['t'], result['S_total'], label='S', color='purple')\n",
    "plt.plot(result['t'], result['I_total'], label='I', color='firebrick')\n",
    "plt.plot(result['t'], result['R_total'], label='R', color='k')\n",
    "plt.legend(frameon=False, loc='center right')\n",
    "plt.xlabel(\"time\")\n",
    "plt.ylabel(\"compartment\")\n",
    "plt.show()"
   ]
  },
  {
   "cell_type": "markdown",
   "metadata": {},
   "source": [
    "### Arrival times\n",
    "\n",
    "The arrival time of the disease in the subpopulations"
   ]
  },
  {
   "cell_type": "code",
   "execution_count": null,
   "metadata": {
    "tags": []
   },
   "outputs": [],
   "source": [
    "print(result['T_arrival'])"
   ]
  },
  {
   "cell_type": "code",
   "execution_count": null,
   "metadata": {},
   "outputs": [],
   "source": []
  }
 ],
 "metadata": {
  "kernelspec": {
   "display_name": "Python 3 (ipykernel)",
   "language": "python",
   "name": "python3"
  },
  "language_info": {
   "codemirror_mode": {
    "name": "ipython",
    "version": 3
   },
   "file_extension": ".py",
   "mimetype": "text/x-python",
   "name": "python",
   "nbconvert_exporter": "python",
   "pygments_lexer": "ipython3",
   "version": "3.10.12"
  },
  "toc": {
   "base_numbering": 1,
   "nav_menu": {},
   "number_sections": false,
   "sideBar": true,
   "skip_h1_title": false,
   "title_cell": "Table of Contents",
   "title_sidebar": "Contents",
   "toc_cell": false,
   "toc_position": {},
   "toc_section_display": true,
   "toc_window_display": false
  }
 },
 "nbformat": 4,
 "nbformat_minor": 4
}
